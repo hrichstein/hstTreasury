{
 "cells": [
  {
   "cell_type": "code",
   "execution_count": 1,
   "id": "28ae25e1",
   "metadata": {},
   "outputs": [],
   "source": [
    "from astroquery.mast import Observations"
   ]
  },
  {
   "cell_type": "markdown",
   "id": "bcbe77f9",
   "metadata": {},
   "source": [
    "Change the tname if you want a different target."
   ]
  },
  {
   "cell_type": "code",
   "execution_count": 2,
   "id": "8b2a88dd",
   "metadata": {},
   "outputs": [],
   "source": [
    "tname = 'HOROLOGIUM-I'\n",
    "obs_table = Observations.query_criteria(proposal_id='14734',\n",
    "                                        obs_collection='HST',\n",
    "                                        dataproduct_type='IMAGE',\n",
    "                                        instrument_name='ACS/WFC',\n",
    "                                        target_name=tname)"
   ]
  },
  {
   "cell_type": "markdown",
   "id": "c784485a",
   "metadata": {},
   "source": [
    "Showing the initial results."
   ]
  },
  {
   "cell_type": "code",
   "execution_count": 3,
   "id": "e908fe23",
   "metadata": {},
   "outputs": [
    {
     "data": {
      "text/html": [
       "<i>Table length=6</i>\n",
       "<table id=\"table140605193912432-622776\" class=\"table-striped table-bordered table-condensed\">\n",
       "<thead><tr><th>idx</th><th>intentType</th><th>obs_collection</th><th>provenance_name</th><th>instrument_name</th><th>project</th><th>filters</th><th>wavelength_region</th><th>target_name</th><th>target_classification</th><th>sequence_number</th><th>obs_id</th><th>s_ra</th><th>s_dec</th><th>proposal_id</th><th>proposal_pi</th><th>dataproduct_type</th><th>calib_level</th><th>t_min</th><th>t_max</th><th>t_exptime</th><th>em_min</th><th>em_max</th><th>obs_title</th><th>t_obs_release</th><th>proposal_type</th><th>dataRights</th><th>mtFlag</th><th>obsid</th><th>objID</th></tr></thead>\n",
       "<tr><td>0</td><td>science</td><td>HST</td><td>CALACS</td><td>ACS/WFC</td><td>HST</td><td>F606W</td><td>Optical</td><td>HOROLOGIUM-I</td><td>GALAXY;DWARF SPHEROIDAL</td><td>--</td><td>jdan20010</td><td>43.882</td><td>-54.1188</td><td>14734</td><td>Kallivayalil, Nitya</td><td>image</td><td>3</td><td>57965.76071940972</td><td>57965.85262924768</td><td>5748.0</td><td>470.0</td><td>720.0</td><td>Milky Way Cosmology: Laying the Foundation for Full 6-D Dynamical Mapping of the Nearby Universe</td><td>57966.16747684</td><td>GO</td><td>PUBLIC</td><td>False</td><td>25868550</td><td>302180115</td></tr>\n",
       "<tr><td>1</td><td>science</td><td>HST</td><td>CALACS</td><td>ACS/WFC</td><td>HST</td><td>F814W</td><td>Optical</td><td>HOROLOGIUM-I</td><td>GALAXY;DWARF SPHEROIDAL</td><td>--</td><td>jdan21010</td><td>43.882</td><td>-54.1188</td><td>14734</td><td>Kallivayalil, Nitya</td><td>image</td><td>3</td><td>57966.62127496528</td><td>57966.71310366898</td><td>4627.0</td><td>708.0</td><td>959.0</td><td>Milky Way Cosmology: Laying the Foundation for Full 6-D Dynamical Mapping of the Nearby Universe</td><td>57966.97403924</td><td>GO</td><td>PUBLIC</td><td>False</td><td>25868551</td><td>302779565</td></tr>\n",
       "<tr><td>2</td><td>science</td><td>HST</td><td>HAP-SVM</td><td>ACS/WFC</td><td>HAP</td><td>F814W</td><td>Optical</td><td>HOROLOGIUM-I</td><td>--</td><td>--</td><td>hst_14734_21_acs_wfc_f814w_jdan21</td><td>43.882</td><td>-54.1188</td><td>14734</td><td>Kallivayalil, Nitya</td><td>image</td><td>3</td><td>57966.62127498</td><td>57966.713116</td><td>4627.0</td><td>708.0</td><td>959.0</td><td>--</td><td>57966.97403924</td><td>HAP</td><td>PUBLIC</td><td>False</td><td>26482977</td><td>304379809</td></tr>\n",
       "<tr><td>3</td><td>science</td><td>HST</td><td>HAP-SVM</td><td>ACS/WFC</td><td>HAP</td><td>detection</td><td>--</td><td>HOROLOGIUM-I</td><td>--</td><td>--</td><td>hst_14734_21_acs_wfc_total_jdan21</td><td>43.882</td><td>-54.1188</td><td>14734</td><td>Kallivayalil, Nitya</td><td>image</td><td>3</td><td>57966.62127498</td><td>57966.713116</td><td>4627.0</td><td>nan</td><td>nan</td><td>--</td><td>57966.97403924</td><td>HAP</td><td>PUBLIC</td><td>False</td><td>26482991</td><td>304379824</td></tr>\n",
       "<tr><td>4</td><td>science</td><td>HST</td><td>HAP-SVM</td><td>ACS/WFC</td><td>HAP</td><td>F606W</td><td>Optical</td><td>HOROLOGIUM-I</td><td>--</td><td>--</td><td>hst_14734_20_acs_wfc_f606w_jdan20</td><td>43.882</td><td>-54.1188</td><td>14734</td><td>Kallivayalil, Nitya</td><td>image</td><td>3</td><td>57965.76071942</td><td>57965.85264155</td><td>4627.0</td><td>470.0</td><td>720.0</td><td>--</td><td>57966.16747684</td><td>HAP</td><td>PUBLIC</td><td>False</td><td>26482562</td><td>304723505</td></tr>\n",
       "<tr><td>5</td><td>science</td><td>HST</td><td>HAP-SVM</td><td>ACS/WFC</td><td>HAP</td><td>detection</td><td>--</td><td>HOROLOGIUM-I</td><td>--</td><td>--</td><td>hst_14734_20_acs_wfc_total_jdan20</td><td>43.882</td><td>-54.1188</td><td>14734</td><td>Kallivayalil, Nitya</td><td>image</td><td>3</td><td>57965.76071942</td><td>57965.85264155</td><td>4627.0</td><td>nan</td><td>nan</td><td>--</td><td>57966.16747684</td><td>HAP</td><td>PUBLIC</td><td>False</td><td>26482580</td><td>304723523</td></tr>\n",
       "</table><style>table.dataTable {clear: both; width: auto !important; margin: 0 !important;}\n",
       ".dataTables_info, .dataTables_length, .dataTables_filter, .dataTables_paginate{\n",
       "display: inline-block; margin-right: 1em; }\n",
       ".paginate_button { margin-right: 5px; }\n",
       "</style>\n",
       "<script>\n",
       "\n",
       "var astropy_sort_num = function(a, b) {\n",
       "    var a_num = parseFloat(a);\n",
       "    var b_num = parseFloat(b);\n",
       "\n",
       "    if (isNaN(a_num) && isNaN(b_num))\n",
       "        return ((a < b) ? -1 : ((a > b) ? 1 : 0));\n",
       "    else if (!isNaN(a_num) && !isNaN(b_num))\n",
       "        return ((a_num < b_num) ? -1 : ((a_num > b_num) ? 1 : 0));\n",
       "    else\n",
       "        return isNaN(a_num) ? -1 : 1;\n",
       "}\n",
       "\n",
       "require.config({paths: {\n",
       "    datatables: 'https://cdn.datatables.net/1.10.12/js/jquery.dataTables.min'\n",
       "}});\n",
       "require([\"datatables\"], function(){\n",
       "    console.log(\"$('#table140605193912432-622776').dataTable()\");\n",
       "    \n",
       "jQuery.extend( jQuery.fn.dataTableExt.oSort, {\n",
       "    \"optionalnum-asc\": astropy_sort_num,\n",
       "    \"optionalnum-desc\": function (a,b) { return -astropy_sort_num(a, b); }\n",
       "});\n",
       "\n",
       "    $('#table140605193912432-622776').dataTable({\n",
       "        order: [],\n",
       "        pageLength: 5,\n",
       "        lengthMenu: [[5, 10, 25, 50, 100, 500, 1000, -1], [5, 10, 25, 50, 100, 500, 1000, 'All']],\n",
       "        pagingType: \"full_numbers\",\n",
       "        columnDefs: [{targets: [0, 10, 12, 13, 17, 18, 19, 20, 21, 22, 24], type: \"optionalnum\"}]\n",
       "    });\n",
       "});\n",
       "</script>\n"
      ],
      "text/plain": [
       "<IPython.core.display.HTML object>"
      ]
     },
     "execution_count": 3,
     "metadata": {},
     "output_type": "execute_result"
    }
   ],
   "source": [
    "obs_table.show_in_notebook(display_length=5)"
   ]
  },
  {
   "cell_type": "markdown",
   "id": "011fb27d",
   "metadata": {},
   "source": [
    "Getting the full product list."
   ]
  },
  {
   "cell_type": "code",
   "execution_count": 4,
   "id": "47045958",
   "metadata": {},
   "outputs": [],
   "source": [
    "prod_list = Observations.get_product_list(obs_table)"
   ]
  },
  {
   "cell_type": "markdown",
   "id": "ac17289b",
   "metadata": {},
   "source": [
    "Filtering down to the files that we are interested in."
   ]
  },
  {
   "cell_type": "code",
   "execution_count": 5,
   "id": "49cdf8be",
   "metadata": {},
   "outputs": [],
   "source": [
    "cut_list = Observations.filter_products(prod_list, productType='SCIENCE',\n",
    "                                       productSubGroupDescription='FLC',\n",
    "                                       project='CALACS')"
   ]
  },
  {
   "cell_type": "code",
   "execution_count": 6,
   "id": "3c8e9440",
   "metadata": {},
   "outputs": [
    {
     "data": {
      "text/html": [
       "<i>Table length=30</i>\n",
       "<table id=\"table140605162698496-144452\" class=\"table-striped table-bordered table-condensed\">\n",
       "<thead><tr><th>idx</th><th>obsID</th><th>obs_collection</th><th>dataproduct_type</th><th>obs_id</th><th>description</th><th>type</th><th>dataURI</th><th>productType</th><th>productGroupDescription</th><th>productSubGroupDescription</th><th>productDocumentationURL</th><th>project</th><th>prvversion</th><th>proposal_id</th><th>productFilename</th><th>size</th><th>parent_obsid</th><th>dataRights</th><th>calib_level</th></tr></thead>\n",
       "<tr><td>0</td><td>25868247</td><td>HST</td><td>image</td><td>jdan20faq</td><td>DADS FLC file - CTE-corrected calibrated exposure ACS/WFC3</td><td>S</td><td>mast:HST/product/jdan20faq_flc.fits</td><td>SCIENCE</td><td>--</td><td>FLC</td><td>--</td><td>CALACS</td><td>10.3.5 (08-Feb-2022)</td><td>14734</td><td>jdan20faq_flc.fits</td><td>168330240</td><td>25868550</td><td>PUBLIC</td><td>2</td></tr>\n",
       "<tr><td>1</td><td>25868247</td><td>HST</td><td>image</td><td>jdan20faq</td><td>DADS FLC file - CTE-corrected calibrated exposure ACS/WFC3</td><td>S</td><td>mast:HST/product/jdan20faq_flc.fits</td><td>SCIENCE</td><td>--</td><td>FLC</td><td>--</td><td>CALACS</td><td>10.3.5 (08-Feb-2022)</td><td>14734</td><td>jdan20faq_flc.fits</td><td>168330240</td><td>26482562</td><td>PUBLIC</td><td>2</td></tr>\n",
       "<tr><td>2</td><td>25868247</td><td>HST</td><td>image</td><td>jdan20faq</td><td>DADS FLC file - CTE-corrected calibrated exposure ACS/WFC3</td><td>S</td><td>mast:HST/product/jdan20faq_flc.fits</td><td>SCIENCE</td><td>--</td><td>FLC</td><td>--</td><td>CALACS</td><td>10.3.5 (08-Feb-2022)</td><td>14734</td><td>jdan20faq_flc.fits</td><td>168330240</td><td>26482580</td><td>PUBLIC</td><td>2</td></tr>\n",
       "<tr><td>3</td><td>25868248</td><td>HST</td><td>image</td><td>jdan20fdq</td><td>DADS FLC file - CTE-corrected calibrated exposure ACS/WFC3</td><td>S</td><td>mast:HST/product/jdan20fdq_flc.fits</td><td>SCIENCE</td><td>--</td><td>FLC</td><td>--</td><td>CALACS</td><td>10.3.5 (08-Feb-2022)</td><td>14734</td><td>jdan20fdq_flc.fits</td><td>168330240</td><td>25868550</td><td>PUBLIC</td><td>2</td></tr>\n",
       "<tr><td>4</td><td>25868248</td><td>HST</td><td>image</td><td>jdan20fdq</td><td>DADS FLC file - CTE-corrected calibrated exposure ACS/WFC3</td><td>S</td><td>mast:HST/product/jdan20fdq_flc.fits</td><td>SCIENCE</td><td>--</td><td>FLC</td><td>--</td><td>CALACS</td><td>10.3.5 (08-Feb-2022)</td><td>14734</td><td>jdan20fdq_flc.fits</td><td>168330240</td><td>26482562</td><td>PUBLIC</td><td>2</td></tr>\n",
       "<tr><td>5</td><td>25868248</td><td>HST</td><td>image</td><td>jdan20fdq</td><td>DADS FLC file - CTE-corrected calibrated exposure ACS/WFC3</td><td>S</td><td>mast:HST/product/jdan20fdq_flc.fits</td><td>SCIENCE</td><td>--</td><td>FLC</td><td>--</td><td>CALACS</td><td>10.3.5 (08-Feb-2022)</td><td>14734</td><td>jdan20fdq_flc.fits</td><td>168330240</td><td>26482580</td><td>PUBLIC</td><td>2</td></tr>\n",
       "<tr><td>6</td><td>25868249</td><td>HST</td><td>image</td><td>jdan20fiq</td><td>DADS FLC file - CTE-corrected calibrated exposure ACS/WFC3</td><td>S</td><td>mast:HST/product/jdan20fiq_flc.fits</td><td>SCIENCE</td><td>--</td><td>FLC</td><td>--</td><td>CALACS</td><td>10.3.5 (08-Feb-2022)</td><td>14734</td><td>jdan20fiq_flc.fits</td><td>168330240</td><td>25868550</td><td>PUBLIC</td><td>2</td></tr>\n",
       "<tr><td>7</td><td>25868249</td><td>HST</td><td>image</td><td>jdan20fiq</td><td>DADS FLC file - CTE-corrected calibrated exposure ACS/WFC3</td><td>S</td><td>mast:HST/product/jdan20fiq_flc.fits</td><td>SCIENCE</td><td>--</td><td>FLC</td><td>--</td><td>CALACS</td><td>10.3.5 (08-Feb-2022)</td><td>14734</td><td>jdan20fiq_flc.fits</td><td>168330240</td><td>26482562</td><td>PUBLIC</td><td>2</td></tr>\n",
       "<tr><td>8</td><td>25868249</td><td>HST</td><td>image</td><td>jdan20fiq</td><td>DADS FLC file - CTE-corrected calibrated exposure ACS/WFC3</td><td>S</td><td>mast:HST/product/jdan20fiq_flc.fits</td><td>SCIENCE</td><td>--</td><td>FLC</td><td>--</td><td>CALACS</td><td>10.3.5 (08-Feb-2022)</td><td>14734</td><td>jdan20fiq_flc.fits</td><td>168330240</td><td>26482580</td><td>PUBLIC</td><td>2</td></tr>\n",
       "<tr><td>9</td><td>25868250</td><td>HST</td><td>image</td><td>jdan20fkq</td><td>DADS FLC file - CTE-corrected calibrated exposure ACS/WFC3</td><td>S</td><td>mast:HST/product/jdan20fkq_flc.fits</td><td>SCIENCE</td><td>--</td><td>FLC</td><td>--</td><td>CALACS</td><td>10.3.5 (08-Feb-2022)</td><td>14734</td><td>jdan20fkq_flc.fits</td><td>168330240</td><td>25868550</td><td>PUBLIC</td><td>2</td></tr>\n",
       "<tr><td>10</td><td>25868250</td><td>HST</td><td>image</td><td>jdan20fkq</td><td>DADS FLC file - CTE-corrected calibrated exposure ACS/WFC3</td><td>S</td><td>mast:HST/product/jdan20fkq_flc.fits</td><td>SCIENCE</td><td>--</td><td>FLC</td><td>--</td><td>CALACS</td><td>10.3.5 (08-Feb-2022)</td><td>14734</td><td>jdan20fkq_flc.fits</td><td>168330240</td><td>26482562</td><td>PUBLIC</td><td>2</td></tr>\n",
       "<tr><td>11</td><td>25868250</td><td>HST</td><td>image</td><td>jdan20fkq</td><td>DADS FLC file - CTE-corrected calibrated exposure ACS/WFC3</td><td>S</td><td>mast:HST/product/jdan20fkq_flc.fits</td><td>SCIENCE</td><td>--</td><td>FLC</td><td>--</td><td>CALACS</td><td>10.3.5 (08-Feb-2022)</td><td>14734</td><td>jdan20fkq_flc.fits</td><td>168330240</td><td>26482580</td><td>PUBLIC</td><td>2</td></tr>\n",
       "<tr><td>12</td><td>25868251</td><td>HST</td><td>image</td><td>jdan20foq</td><td>DADS FLC file - CTE-corrected calibrated exposure ACS/WFC3</td><td>S</td><td>mast:HST/product/jdan20foq_flc.fits</td><td>SCIENCE</td><td>--</td><td>FLC</td><td>--</td><td>CALACS</td><td>10.3.5 (08-Feb-2022)</td><td>14734</td><td>jdan20foq_flc.fits</td><td>168330240</td><td>25868550</td><td>PUBLIC</td><td>2</td></tr>\n",
       "<tr><td>13</td><td>25868251</td><td>HST</td><td>image</td><td>jdan20foq</td><td>DADS FLC file - CTE-corrected calibrated exposure ACS/WFC3</td><td>S</td><td>mast:HST/product/jdan20foq_flc.fits</td><td>SCIENCE</td><td>--</td><td>FLC</td><td>--</td><td>CALACS</td><td>10.3.5 (08-Feb-2022)</td><td>14734</td><td>jdan20foq_flc.fits</td><td>168330240</td><td>26482562</td><td>PUBLIC</td><td>2</td></tr>\n",
       "<tr><td>14</td><td>25868251</td><td>HST</td><td>image</td><td>jdan20foq</td><td>DADS FLC file - CTE-corrected calibrated exposure ACS/WFC3</td><td>S</td><td>mast:HST/product/jdan20foq_flc.fits</td><td>SCIENCE</td><td>--</td><td>FLC</td><td>--</td><td>CALACS</td><td>10.3.5 (08-Feb-2022)</td><td>14734</td><td>jdan20foq_flc.fits</td><td>168330240</td><td>26482580</td><td>PUBLIC</td><td>2</td></tr>\n",
       "<tr><td>15</td><td>25868252</td><td>HST</td><td>image</td><td>jdan21l8q</td><td>DADS FLC file - CTE-corrected calibrated exposure ACS/WFC3</td><td>S</td><td>mast:HST/product/jdan21l8q_flc.fits</td><td>SCIENCE</td><td>--</td><td>FLC</td><td>--</td><td>CALACS</td><td>10.3.5 (08-Feb-2022)</td><td>14734</td><td>jdan21l8q_flc.fits</td><td>168330240</td><td>25868551</td><td>PUBLIC</td><td>2</td></tr>\n",
       "<tr><td>16</td><td>25868252</td><td>HST</td><td>image</td><td>jdan21l8q</td><td>DADS FLC file - CTE-corrected calibrated exposure ACS/WFC3</td><td>S</td><td>mast:HST/product/jdan21l8q_flc.fits</td><td>SCIENCE</td><td>--</td><td>FLC</td><td>--</td><td>CALACS</td><td>10.3.5 (08-Feb-2022)</td><td>14734</td><td>jdan21l8q_flc.fits</td><td>168330240</td><td>26482977</td><td>PUBLIC</td><td>2</td></tr>\n",
       "<tr><td>17</td><td>25868252</td><td>HST</td><td>image</td><td>jdan21l8q</td><td>DADS FLC file - CTE-corrected calibrated exposure ACS/WFC3</td><td>S</td><td>mast:HST/product/jdan21l8q_flc.fits</td><td>SCIENCE</td><td>--</td><td>FLC</td><td>--</td><td>CALACS</td><td>10.3.5 (08-Feb-2022)</td><td>14734</td><td>jdan21l8q_flc.fits</td><td>168330240</td><td>26482991</td><td>PUBLIC</td><td>2</td></tr>\n",
       "<tr><td>18</td><td>25868253</td><td>HST</td><td>image</td><td>jdan21laq</td><td>DADS FLC file - CTE-corrected calibrated exposure ACS/WFC3</td><td>S</td><td>mast:HST/product/jdan21laq_flc.fits</td><td>SCIENCE</td><td>--</td><td>FLC</td><td>--</td><td>CALACS</td><td>10.3.5 (08-Feb-2022)</td><td>14734</td><td>jdan21laq_flc.fits</td><td>168330240</td><td>25868551</td><td>PUBLIC</td><td>2</td></tr>\n",
       "<tr><td>19</td><td>25868253</td><td>HST</td><td>image</td><td>jdan21laq</td><td>DADS FLC file - CTE-corrected calibrated exposure ACS/WFC3</td><td>S</td><td>mast:HST/product/jdan21laq_flc.fits</td><td>SCIENCE</td><td>--</td><td>FLC</td><td>--</td><td>CALACS</td><td>10.3.5 (08-Feb-2022)</td><td>14734</td><td>jdan21laq_flc.fits</td><td>168330240</td><td>26482977</td><td>PUBLIC</td><td>2</td></tr>\n",
       "<tr><td>20</td><td>25868253</td><td>HST</td><td>image</td><td>jdan21laq</td><td>DADS FLC file - CTE-corrected calibrated exposure ACS/WFC3</td><td>S</td><td>mast:HST/product/jdan21laq_flc.fits</td><td>SCIENCE</td><td>--</td><td>FLC</td><td>--</td><td>CALACS</td><td>10.3.5 (08-Feb-2022)</td><td>14734</td><td>jdan21laq_flc.fits</td><td>168330240</td><td>26482991</td><td>PUBLIC</td><td>2</td></tr>\n",
       "<tr><td>21</td><td>25868254</td><td>HST</td><td>image</td><td>jdan21lfq</td><td>DADS FLC file - CTE-corrected calibrated exposure ACS/WFC3</td><td>S</td><td>mast:HST/product/jdan21lfq_flc.fits</td><td>SCIENCE</td><td>--</td><td>FLC</td><td>--</td><td>CALACS</td><td>10.3.5 (08-Feb-2022)</td><td>14734</td><td>jdan21lfq_flc.fits</td><td>168330240</td><td>25868551</td><td>PUBLIC</td><td>2</td></tr>\n",
       "<tr><td>22</td><td>25868254</td><td>HST</td><td>image</td><td>jdan21lfq</td><td>DADS FLC file - CTE-corrected calibrated exposure ACS/WFC3</td><td>S</td><td>mast:HST/product/jdan21lfq_flc.fits</td><td>SCIENCE</td><td>--</td><td>FLC</td><td>--</td><td>CALACS</td><td>10.3.5 (08-Feb-2022)</td><td>14734</td><td>jdan21lfq_flc.fits</td><td>168330240</td><td>26482977</td><td>PUBLIC</td><td>2</td></tr>\n",
       "<tr><td>23</td><td>25868254</td><td>HST</td><td>image</td><td>jdan21lfq</td><td>DADS FLC file - CTE-corrected calibrated exposure ACS/WFC3</td><td>S</td><td>mast:HST/product/jdan21lfq_flc.fits</td><td>SCIENCE</td><td>--</td><td>FLC</td><td>--</td><td>CALACS</td><td>10.3.5 (08-Feb-2022)</td><td>14734</td><td>jdan21lfq_flc.fits</td><td>168330240</td><td>26482991</td><td>PUBLIC</td><td>2</td></tr>\n",
       "<tr><td>24</td><td>25868255</td><td>HST</td><td>image</td><td>jdan21lhq</td><td>DADS FLC file - CTE-corrected calibrated exposure ACS/WFC3</td><td>S</td><td>mast:HST/product/jdan21lhq_flc.fits</td><td>SCIENCE</td><td>--</td><td>FLC</td><td>--</td><td>CALACS</td><td>10.3.5 (08-Feb-2022)</td><td>14734</td><td>jdan21lhq_flc.fits</td><td>168330240</td><td>25868551</td><td>PUBLIC</td><td>2</td></tr>\n",
       "<tr><td>25</td><td>25868255</td><td>HST</td><td>image</td><td>jdan21lhq</td><td>DADS FLC file - CTE-corrected calibrated exposure ACS/WFC3</td><td>S</td><td>mast:HST/product/jdan21lhq_flc.fits</td><td>SCIENCE</td><td>--</td><td>FLC</td><td>--</td><td>CALACS</td><td>10.3.5 (08-Feb-2022)</td><td>14734</td><td>jdan21lhq_flc.fits</td><td>168330240</td><td>26482977</td><td>PUBLIC</td><td>2</td></tr>\n",
       "<tr><td>26</td><td>25868255</td><td>HST</td><td>image</td><td>jdan21lhq</td><td>DADS FLC file - CTE-corrected calibrated exposure ACS/WFC3</td><td>S</td><td>mast:HST/product/jdan21lhq_flc.fits</td><td>SCIENCE</td><td>--</td><td>FLC</td><td>--</td><td>CALACS</td><td>10.3.5 (08-Feb-2022)</td><td>14734</td><td>jdan21lhq_flc.fits</td><td>168330240</td><td>26482991</td><td>PUBLIC</td><td>2</td></tr>\n",
       "<tr><td>27</td><td>25868256</td><td>HST</td><td>image</td><td>jdan21llq</td><td>DADS FLC file - CTE-corrected calibrated exposure ACS/WFC3</td><td>S</td><td>mast:HST/product/jdan21llq_flc.fits</td><td>SCIENCE</td><td>--</td><td>FLC</td><td>--</td><td>CALACS</td><td>10.3.5 (08-Feb-2022)</td><td>14734</td><td>jdan21llq_flc.fits</td><td>168330240</td><td>25868551</td><td>PUBLIC</td><td>2</td></tr>\n",
       "<tr><td>28</td><td>25868256</td><td>HST</td><td>image</td><td>jdan21llq</td><td>DADS FLC file - CTE-corrected calibrated exposure ACS/WFC3</td><td>S</td><td>mast:HST/product/jdan21llq_flc.fits</td><td>SCIENCE</td><td>--</td><td>FLC</td><td>--</td><td>CALACS</td><td>10.3.5 (08-Feb-2022)</td><td>14734</td><td>jdan21llq_flc.fits</td><td>168330240</td><td>26482977</td><td>PUBLIC</td><td>2</td></tr>\n",
       "<tr><td>29</td><td>25868256</td><td>HST</td><td>image</td><td>jdan21llq</td><td>DADS FLC file - CTE-corrected calibrated exposure ACS/WFC3</td><td>S</td><td>mast:HST/product/jdan21llq_flc.fits</td><td>SCIENCE</td><td>--</td><td>FLC</td><td>--</td><td>CALACS</td><td>10.3.5 (08-Feb-2022)</td><td>14734</td><td>jdan21llq_flc.fits</td><td>168330240</td><td>26482991</td><td>PUBLIC</td><td>2</td></tr>\n",
       "</table><style>table.dataTable {clear: both; width: auto !important; margin: 0 !important;}\n",
       ".dataTables_info, .dataTables_length, .dataTables_filter, .dataTables_paginate{\n",
       "display: inline-block; margin-right: 1em; }\n",
       ".paginate_button { margin-right: 5px; }\n",
       "</style>\n",
       "<script>\n",
       "\n",
       "var astropy_sort_num = function(a, b) {\n",
       "    var a_num = parseFloat(a);\n",
       "    var b_num = parseFloat(b);\n",
       "\n",
       "    if (isNaN(a_num) && isNaN(b_num))\n",
       "        return ((a < b) ? -1 : ((a > b) ? 1 : 0));\n",
       "    else if (!isNaN(a_num) && !isNaN(b_num))\n",
       "        return ((a_num < b_num) ? -1 : ((a_num > b_num) ? 1 : 0));\n",
       "    else\n",
       "        return isNaN(a_num) ? -1 : 1;\n",
       "}\n",
       "\n",
       "require.config({paths: {\n",
       "    datatables: 'https://cdn.datatables.net/1.10.12/js/jquery.dataTables.min'\n",
       "}});\n",
       "require([\"datatables\"], function(){\n",
       "    console.log(\"$('#table140605162698496-144452').dataTable()\");\n",
       "    \n",
       "jQuery.extend( jQuery.fn.dataTableExt.oSort, {\n",
       "    \"optionalnum-asc\": astropy_sort_num,\n",
       "    \"optionalnum-desc\": function (a,b) { return -astropy_sort_num(a, b); }\n",
       "});\n",
       "\n",
       "    $('#table140605162698496-144452').dataTable({\n",
       "        order: [],\n",
       "        pageLength: 5,\n",
       "        lengthMenu: [[5, 10, 25, 50, 100, 500, 1000, -1], [5, 10, 25, 50, 100, 500, 1000, 'All']],\n",
       "        pagingType: \"full_numbers\",\n",
       "        columnDefs: [{targets: [0, 16, 19], type: \"optionalnum\"}]\n",
       "    });\n",
       "});\n",
       "</script>\n"
      ],
      "text/plain": [
       "<IPython.core.display.HTML object>"
      ]
     },
     "execution_count": 6,
     "metadata": {},
     "output_type": "execute_result"
    }
   ],
   "source": [
    "cut_list.show_in_notebook(display_length=5)"
   ]
  },
  {
   "cell_type": "markdown",
   "id": "425f89ec",
   "metadata": {},
   "source": [
    "Even though (at least for HOROLOGIUM-I) there appear to be some duplicate files, when you actually run the download command (below), only one of each file should end up on your computer."
   ]
  },
  {
   "cell_type": "code",
   "execution_count": 7,
   "id": "ebd4e10d",
   "metadata": {},
   "outputs": [],
   "source": [
    "manifest = Observations.download_products(cut_list,extension='flc.fits')"
   ]
  },
  {
   "cell_type": "markdown",
   "id": "35d6de3e",
   "metadata": {},
   "source": [
    "To see where the files were put, check the Local Path."
   ]
  },
  {
   "cell_type": "code",
   "execution_count": 8,
   "id": "68e29fd9",
   "metadata": {},
   "outputs": [],
   "source": [
    "manifest['Local Path']"
   ]
  }
 ],
 "metadata": {
  "kernelspec": {
   "display_name": "Python 3 (ipykernel)",
   "language": "python",
   "name": "python3"
  },
  "language_info": {
   "codemirror_mode": {
    "name": "ipython",
    "version": 3
   },
   "file_extension": ".py",
   "mimetype": "text/x-python",
   "name": "python",
   "nbconvert_exporter": "python",
   "pygments_lexer": "ipython3",
   "version": "3.9.12"
  }
 },
 "nbformat": 4,
 "nbformat_minor": 5
}
